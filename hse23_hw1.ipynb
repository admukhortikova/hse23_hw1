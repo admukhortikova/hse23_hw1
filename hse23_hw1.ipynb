{
  "nbformat": 4,
  "nbformat_minor": 0,
  "metadata": {
    "colab": {
      "provenance": []
    },
    "kernelspec": {
      "name": "python3",
      "display_name": "Python 3"
    },
    "language_info": {
      "name": "python"
    }
  },
  "cells": [
    {
      "cell_type": "code",
      "execution_count": 8,
      "metadata": {
        "id": "6jqsovYnyFrD"
      },
      "outputs": [],
      "source": [
        "import re\n",
        "import numpy as np"
      ]
    },
    {
      "cell_type": "code",
      "source": [
        "def count_contigs(contig):\n",
        "  i=0\n",
        "  for line in contig:\n",
        "    if re.search('^>', line):\n",
        "        i+=1\n",
        "  return i"
      ],
      "metadata": {
        "id": "551VboVlHCxr"
      },
      "execution_count": 9,
      "outputs": []
    },
    {
      "cell_type": "code",
      "source": [
        "def total_contigs(contig):\n",
        "  sum=0\n",
        "  for line in contig:\n",
        "    if re.search('^>', line):\n",
        "      found=re.search('len(.+?)_', line)\n",
        "      sum+=int(found.group(1))\n",
        "  return sum"
      ],
      "metadata": {
        "id": "WxfBFiH_HIHn"
      },
      "execution_count": 10,
      "outputs": []
    },
    {
      "cell_type": "code",
      "source": [
        "def max_contigs(contig):\n",
        "  max=0\n",
        "  for line in contig:\n",
        "    if re.search('^>', line):\n",
        "      found=re.search('len(.+?)_', line)\n",
        "      if int(found.group(1))>max:\n",
        "        max=int(found.group(1))\n",
        "  return max"
      ],
      "metadata": {
        "id": "kUul1nhC9DBW"
      },
      "execution_count": 11,
      "outputs": []
    },
    {
      "cell_type": "code",
      "source": [
        "def Longest(contig):\n",
        "  lines=list()\n",
        "  for line in contig:\n",
        "    if re.search('^>', line):\n",
        "      found=re.search('len(.+?)_', line)\n",
        "      lines.append(int(found.group(1)))\n",
        "  lines=np.asarray(lines)\n",
        "  total=lines.sum()\n",
        "  lines=np.sort(lines)\n",
        "  lines=np.flip(lines)\n",
        "  print(lines[0])"
      ],
      "metadata": {
        "id": "jGOvYo9P9F2w"
      },
      "execution_count": 12,
      "outputs": []
    },
    {
      "cell_type": "code",
      "source": [
        "def N50(contig):\n",
        "  lines=list()\n",
        "  for line in contig:\n",
        "    if re.search('^>', line):\n",
        "      found=re.search('len(.+?)_', line)\n",
        "      lines.append(int(found.group(1)))\n",
        "  lines=np.asarray(lines)\n",
        "  total=lines.sum()\n",
        "  lines=np.sort(lines)\n",
        "  lines=np.flip(lines)\n",
        "  n50=0\n",
        "  sum=0\n",
        "  i=0\n",
        "  while sum<total/2.0:\n",
        "    n50=lines[i]\n",
        "    sum+=lines[i]\n",
        "    i+=1\n",
        "  return n50"
      ],
      "metadata": {
        "id": "oVfLgaQt9Igk"
      },
      "execution_count": 13,
      "outputs": []
    },
    {
      "cell_type": "code",
      "source": [
        "def find_gaps(contig):\n",
        "    return len(re.findall(\"N+\", contig[1]))"
      ],
      "metadata": {
        "id": "3jFqJg4T9LjA"
      },
      "execution_count": 14,
      "outputs": []
    },
    {
      "cell_type": "code",
      "source": [
        "def gap_length(contig):\n",
        "    gaps=re.findall(\"N+\", contig[1])\n",
        "    sum=0\n",
        "    for gap in gaps:\n",
        "      sum+=len(gap)\n",
        "    return sum"
      ],
      "metadata": {
        "id": "BIulN8ac9OF6"
      },
      "execution_count": 15,
      "outputs": []
    },
    {
      "cell_type": "markdown",
      "source": [
        "# ***Contigs***"
      ],
      "metadata": {
        "id": "deZux7dr9Q2z"
      }
    },
    {
      "cell_type": "code",
      "source": [
        "with open('/content/Poil_contig.fa') as f:\n",
        "  contig=f.readlines()\n",
        "  print(f'Число контигов: {count_contigs(contig)}')\n",
        "  print(f'Суммарная длина контигов: {total_contigs(contig)}')\n",
        "  print(f'Максимальная длина контига: {max_contigs(contig)}')\n",
        "  print(f'N50: {N50(contig)}')"
      ],
      "metadata": {
        "colab": {
          "base_uri": "https://localhost:8080/"
        },
        "id": "bis-D6dH9UPy",
        "outputId": "c67482ed-b7a0-40be-f205-38244fb3129c"
      },
      "execution_count": 16,
      "outputs": [
        {
          "output_type": "stream",
          "name": "stdout",
          "text": [
            "Число контигов: 611\n",
            "Суммарная длина контигов: 3925671\n",
            "Максимальная длина контига: 179307\n",
            "N50: 54904\n"
          ]
        }
      ]
    },
    {
      "cell_type": "markdown",
      "source": [
        "# ***Scaffolds***"
      ],
      "metadata": {
        "id": "GMW-DXmZ9Yqr"
      }
    },
    {
      "cell_type": "code",
      "source": [
        "with open('/content/Poil_scaffold.fa') as f:\n",
        "  contig=f.readlines()\n",
        "  print(f'Число скаффолдов: {count_contigs(contig)}')\n",
        "  print(f'Суммарная длина скаффолдов: {total_contigs(contig)}')\n",
        "  print(f'Максимальная длина скаффолда: {max_contigs(contig)}')\n",
        "  print(f'N50: {N50(contig)}')"
      ],
      "metadata": {
        "colab": {
          "base_uri": "https://localhost:8080/"
        },
        "id": "GGr9GNoA9cr7",
        "outputId": "111f1c92-516b-4fa4-ab96-c97266c2cba7"
      },
      "execution_count": 17,
      "outputs": [
        {
          "output_type": "stream",
          "name": "stdout",
          "text": [
            "Число скаффолдов: 67\n",
            "Суммарная длина скаффолдов: 3875513\n",
            "Максимальная длина скаффолда: 3834389\n",
            "N50: 3834389\n"
          ]
        }
      ]
    },
    {
      "cell_type": "markdown",
      "source": [
        "# ***Longest scaffold***"
      ],
      "metadata": {
        "id": "rcb17yks9rVx"
      }
    },
    {
      "cell_type": "code",
      "source": [
        "with open('/content/longest_scaffold.fna') as f:\n",
        "  contig=f.readlines()\n",
        "  print(f'Число гэпов: {find_gaps(contig)}')\n",
        "  print(f'Суммарная длина гэпов: {gap_length(contig)}')"
      ],
      "metadata": {
        "colab": {
          "base_uri": "https://localhost:8080/"
        },
        "id": "_nCi3xtm9vXe",
        "outputId": "6ad497e7-9e65-40ff-c176-9b7c4016aa27"
      },
      "execution_count": 20,
      "outputs": [
        {
          "output_type": "stream",
          "name": "stdout",
          "text": [
            "Число гэпов: 60\n",
            "Суммарная длина гэпов: 6034\n"
          ]
        }
      ]
    },
    {
      "cell_type": "markdown",
      "source": [
        "# ***Longest scaffold (gap close)***"
      ],
      "metadata": {
        "id": "WBV7PB3X-Juo"
      }
    },
    {
      "cell_type": "code",
      "source": [
        "with open('/content/longest_scaffold_gapclosed.fna') as f:\n",
        "  contig=f.readlines()\n",
        "  print(f'Число гэпов: {find_gaps(contig)}')\n",
        "  print(f'Суммарная длина гэпов: {gap_length(contig)}')"
      ],
      "metadata": {
        "colab": {
          "base_uri": "https://localhost:8080/"
        },
        "id": "hgwHyVfc-NZV",
        "outputId": "f3b019f0-4bb1-425a-a36c-620089bb3789"
      },
      "execution_count": 21,
      "outputs": [
        {
          "output_type": "stream",
          "name": "stdout",
          "text": [
            "Число гэпов: 8\n",
            "Суммарная длина гэпов: 1507\n"
          ]
        }
      ]
    }
  ]
}